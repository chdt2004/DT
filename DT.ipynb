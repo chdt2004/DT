{
  "nbformat": 4,
  "nbformat_minor": 0,
  "metadata": {
    "colab": {
      "provenance": [],
      "authorship_tag": "ABX9TyOVai6Es1P3FviRB2IlHPag",
      "include_colab_link": true
    },
    "kernelspec": {
      "name": "python3",
      "display_name": "Python 3"
    },
    "language_info": {
      "name": "python"
    }
  },
  "cells": [
    {
      "cell_type": "markdown",
      "metadata": {
        "id": "view-in-github",
        "colab_type": "text"
      },
      "source": [
        "<a href=\"https://colab.research.google.com/github/chdt2004/DT/blob/main/DT.ipynb\" target=\"_parent\"><img src=\"https://colab.research.google.com/assets/colab-badge.svg\" alt=\"Open In Colab\"/></a>"
      ]
    },
    {
      "cell_type": "code",
      "execution_count": 3,
      "metadata": {
        "colab": {
          "base_uri": "https://localhost:8080/"
        },
        "id": "LtPmLTDHvV-W",
        "outputId": "744f24fd-d63c-4240-b426-fe9c6dc4f67b"
      },
      "outputs": [
        {
          "output_type": "stream",
          "name": "stdout",
          "text": [
            "Please enter your age: 19\n",
            "You are an adult.\n"
          ]
        }
      ],
      "source": [
        "# Taking input from the user\n",
        "age = int(input(\"Please enter your age: \"))\n",
        "\n",
        "# Checking if the user is an adult\n",
        "if age >= 18:\n",
        "    print(\"You are an adult.\")\n",
        "else:\n",
        "    print(\"You are a minor.\")\n",
        "\n",
        "\n"
      ]
    },
    {
      "cell_type": "code",
      "source": [
        "# Write some numbers to a file\n",
        "with open('numbers.txt', 'w') as file:\n",
        "    file.write(\"10\\n\")\n",
        "    file.write(\"20\\n\")\n",
        "    file.write(\"30\\n\")\n",
        "\n",
        "# Read numbers from the file and calculate the sum\n",
        "total = 0\n",
        "with open('numbers.txt', 'r') as file:\n",
        "    numbers = file.readlines()\n",
        "\n",
        "# Summing the numbers\n",
        "for number in numbers:\n",
        "    total += int(number.strip())\n",
        "\n",
        "print(f\"The sum of the numbers in the file is: {total}\")\n"
      ],
      "metadata": {
        "colab": {
          "base_uri": "https://localhost:8080/"
        },
        "id": "-c80lCXj0W18",
        "outputId": "2ad1ca0c-3740-4baa-c3d2-4425c05a5c7e"
      },
      "execution_count": 4,
      "outputs": [
        {
          "output_type": "stream",
          "name": "stdout",
          "text": [
            "The sum of the numbers in the file is: 60\n"
          ]
        }
      ]
    },
    {
      "cell_type": "code",
      "source": [
        "# Write multiple lines of input to a file\n",
        "with open('inputs.txt', 'w') as file:\n",
        "    file.write(\"John\\n\")\n",
        "    file.write(\"Mary\\n\")\n",
        "    file.write(\"Alice\\n\")\n",
        "\n",
        "# Read the multiple inputs from the file\n",
        "with open('inputs.txt', 'r') as file:\n",
        "    lines = file.readlines()\n",
        "\n",
        "# Process the input (e.g., print each name)\n",
        "for line in lines:\n",
        "    print(f\"Name read from file: {line.strip()}\")\n"
      ],
      "metadata": {
        "colab": {
          "base_uri": "https://localhost:8080/"
        },
        "id": "ZL0uigii0cwE",
        "outputId": "def016b3-4067-4d53-c987-a694405353a2"
      },
      "execution_count": 6,
      "outputs": [
        {
          "output_type": "stream",
          "name": "stdout",
          "text": [
            "Name read from file: John\n",
            "Name read from file: Mary\n",
            "Name read from file: Alice\n"
          ]
        }
      ]
    },
    {
      "cell_type": "code",
      "source": [
        "# Take user input\n",
        "user_input = input(\"Please enter some text: \")\n",
        "\n",
        "# Write the input to a file\n",
        "with open('output.txt', 'w') as file:\n",
        "    file.write(user_input)\n",
        "\n",
        "print(\"Your input has been written to 'output.txt'.\")\n"
      ],
      "metadata": {
        "colab": {
          "base_uri": "https://localhost:8080/"
        },
        "id": "FeQwSPPA0ojz",
        "outputId": "394a8795-2f54-4c00-e97a-c6c80d83aff8"
      },
      "execution_count": 7,
      "outputs": [
        {
          "output_type": "stream",
          "name": "stdout",
          "text": [
            "Please enter some text: hi.txt\n",
            "Your input has been written to 'output.txt'.\n"
          ]
        }
      ]
    },
    {
      "cell_type": "code",
      "source": [
        "# Read from a file and process the input\n",
        "with open('input.txt', 'w') as file:\n",
        "    file.write(\"Hello from the file!\")\n",
        "\n",
        "# Read the input from the file\n",
        "with open('input.txt', 'r') as file:\n",
        "    content = file.read()\n",
        "\n",
        "# Print the content read from the file\n",
        "print(f\"Content read from file: {content}\")\n"
      ],
      "metadata": {
        "colab": {
          "base_uri": "https://localhost:8080/"
        },
        "id": "HR2tmy7y0yrb",
        "outputId": "c6f4daa8-42a7-432a-c14d-af78c06cd6b0"
      },
      "execution_count": 8,
      "outputs": [
        {
          "output_type": "stream",
          "name": "stdout",
          "text": [
            "Content read from file: Hello from the file!\n"
          ]
        }
      ]
    },
    {
      "cell_type": "code",
      "source": [
        "\n",
        "# Hard-coded variables\n",
        "num1 = 5\n",
        "num2 = 8\n",
        "\n",
        "# Multiplying the two numbers\n",
        "result = num1 * num2\n",
        "\n",
        "# Displaying the result\n",
        "print(f\"The product of {num1} and {num2} is: {result}\")"
      ],
      "metadata": {
        "colab": {
          "base_uri": "https://localhost:8080/"
        },
        "id": "XZZGOTss1hqq",
        "outputId": "07314ae7-8da6-41a2-c63f-f234793257e1"
      },
      "execution_count": 9,
      "outputs": [
        {
          "output_type": "stream",
          "name": "stdout",
          "text": [
            "The product of 5 and 8 is: 40\n"
          ]
        }
      ]
    }
  ]
}