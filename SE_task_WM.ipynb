{
  "nbformat": 4,
  "nbformat_minor": 0,
  "metadata": {
    "colab": {
      "provenance": [],
      "authorship_tag": "ABX9TyPGqxFBYKX1N70XSKvh04mt",
      "include_colab_link": true
    },
    "kernelspec": {
      "name": "python3",
      "display_name": "Python 3"
    },
    "language_info": {
      "name": "python"
    }
  },
  "cells": [
    {
      "cell_type": "markdown",
      "metadata": {
        "id": "view-in-github",
        "colab_type": "text"
      },
      "source": [
        "<a href=\"https://colab.research.google.com/github/chdt2004/DT/blob/main/SE_task_WM.ipynb\" target=\"_parent\"><img src=\"https://colab.research.google.com/assets/colab-badge.svg\" alt=\"Open In Colab\"/></a>"
      ]
    },
    {
      "cell_type": "code",
      "execution_count": 1,
      "metadata": {
        "colab": {
          "base_uri": "https://localhost:8080/"
        },
        "id": "eom6UxuL182F",
        "outputId": "91187dff-fb9d-4fe2-dea8-78e8bdc34b36"
      },
      "outputs": [
        {
          "output_type": "stream",
          "name": "stdout",
          "text": [
            "Hardcoded variables for weather modeling\n",
            "Temperature for hardcoded coefficients at time 6 hours: 29.0\n"
          ]
        }
      ],
      "source": [
        "# Function to calculate temperature\n",
        "def Temperature_modeling(a, b, c, time):\n",
        "    temperature = a * time**2 + b * time + c\n",
        "    return temperature\n",
        "\n",
        "# Hardcoded variables\n",
        "a, b, c = 0.5, -1.5, 20  # Coefficients\n",
        "time = 6  # Time in hours\n",
        "\n",
        "# Display results\n",
        "print(\"Hardcoded variables for weather modeling\")\n",
        "print(\n",
        "    \"Temperature for hardcoded coefficients at time\",\n",
        "    time,\n",
        "    \"hours:\",\n",
        "    Temperature_modeling(a, b, c, time),\n",
        ")\n"
      ]
    },
    {
      "cell_type": "code",
      "source": [
        "# Function to calculate temperature\n",
        "def Temperature_modeling(a, b, c, time):\n",
        "    temperature = a * time**2 + b * time + c\n",
        "    return temperature\n",
        "\n",
        "# User input for coefficients\n",
        "a = float(input(\"Enter coefficient a: \"))\n",
        "b = float(input(\"Enter coefficient b: \"))\n",
        "c = float(input(\"Enter coefficient c: \"))\n",
        "time = float(input(\"Enter time in hours: \"))\n",
        "\n",
        "# Display result\n",
        "print(\"Temperature at time\", time, \"hours:\", Temperature_modeling(a, b, c, time))\n"
      ],
      "metadata": {
        "colab": {
          "base_uri": "https://localhost:8080/"
        },
        "id": "7Yrak6gO3Cfp",
        "outputId": "da722ee7-1cce-4d2d-9536-3346b1488bd7"
      },
      "execution_count": 2,
      "outputs": [
        {
          "output_type": "stream",
          "name": "stdout",
          "text": [
            "Enter coefficient a: 2\n",
            "Enter coefficient b: 3\n",
            "Enter coefficient c: 4\n",
            "Enter time in hours: 5\n",
            "Temperature at time 5.0 hours: 69.0\n"
          ]
        }
      ]
    },
    {
      "cell_type": "code",
      "source": [
        "# Read variables from a file\n",
        "def read_from_file(filename):\n",
        "    with open(filename, 'r') as file:\n",
        "        lines = file.readlines()\n",
        "        coefficients = [tuple(map(float, line.strip().split(','))) for line in lines]\n",
        "    return coefficients\n"
      ],
      "metadata": {
        "id": "g9Tg6MTN3Sql"
      },
      "execution_count": 4,
      "outputs": []
    },
    {
      "cell_type": "code",
      "source": [
        "# Create the file 'coefficients.txt' with sample data\n",
        "with open(\"coefficients.txt\", \"w\") as file:\n",
        "    file.write(\"1, -2, 1\\n\")\n",
        "    file.write(\"0.5, -1.5, 2\\n\")\n",
        "    file.write(\"2, 3, -1\\n\")\n",
        "\n"
      ],
      "metadata": {
        "id": "L_CroIi83oJQ"
      },
      "execution_count": 7,
      "outputs": []
    },
    {
      "cell_type": "code",
      "source": [
        "# Create the file 'coefficients.txt' with sample data\n",
        "with open(\"coefficients.txt\", \"w\") as file:\n",
        "    file.write(\"1, -2, 1\\n\")\n",
        "    file.write(\"0.5, -1.5, 2\\n\")\n",
        "    file.write(\"2, 3, -1\\n\")\n",
        "\n",
        "# Function to read variables from a file\n",
        "def read_from_file(filename):\n",
        "    with open(filename, 'r') as file:\n",
        "        lines = file.readlines()\n",
        "        coefficients = [tuple(map(float, line.strip().split(','))) for line in lines]\n",
        "    return coefficients\n",
        "\n",
        "# Example usage\n",
        "filename = \"coefficients.txt\"\n",
        "coefficients_list = read_from_file(filename)\n",
        "print(\"Coefficients read from file:\", coefficients_list)\n"
      ],
      "metadata": {
        "colab": {
          "base_uri": "https://localhost:8080/"
        },
        "id": "Iok-Ktbg36XQ",
        "outputId": "fbb8d749-fa3f-450c-ff82-af6b9ae445a7"
      },
      "execution_count": 8,
      "outputs": [
        {
          "output_type": "stream",
          "name": "stdout",
          "text": [
            "Coefficients read from file: [(1.0, -2.0, 1.0), (0.5, -1.5, 2.0), (2.0, 3.0, -1.0)]\n"
          ]
        }
      ]
    },
    {
      "cell_type": "code",
      "source": [
        "# Example: Solve for a single set of inputs\n",
        "coefficients = read_from_file(\"coefficients.txt\")  # Read from file\n",
        "a, b, c = coefficients[0]  # Use the first set of coefficients\n",
        "time = 5  # Example time\n",
        "\n",
        "# Function to calculate temperature\n",
        "def Temperature_modeling(a, b, c, time):\n",
        "    return a * time**2 + b * time + c\n",
        "\n",
        "# Display result\n",
        "print(\"Processing a single set of inputs\")\n",
        "print(\"Temperature at time\", time, \"hours:\", Temperature_modeling(a, b, c, time))\n"
      ],
      "metadata": {
        "colab": {
          "base_uri": "https://localhost:8080/"
        },
        "id": "EqXQJMNC39eI",
        "outputId": "d6539a9e-a6c1-4a8b-8f7b-6da4c39fff0c"
      },
      "execution_count": 9,
      "outputs": [
        {
          "output_type": "stream",
          "name": "stdout",
          "text": [
            "Processing a single set of inputs\n",
            "Temperature at time 5 hours: 16.0\n"
          ]
        }
      ]
    },
    {
      "cell_type": "code",
      "source": [
        "# Example: Solve for multiple sets of inputs\n",
        "coefficients_list = read_from_file(\"coefficients.txt\")  # Read from file\n",
        "time = 4  # Example time\n",
        "\n",
        "# Function to calculate temperature\n",
        "def Temperature_modeling(a, b, c, time):\n",
        "    return a * time**2 + b * time + c\n",
        "\n",
        "# Display results for each set\n",
        "print(\"Processing multiple sets of inputs\")\n",
        "for idx, (a, b, c) in enumerate(coefficients_list):\n",
        "    temperature = Temperature_modeling(a, b, c, time)\n",
        "    print(f\"Set {idx+1}: Temperature at time {time} hours:\", temperature)\n"
      ],
      "metadata": {
        "colab": {
          "base_uri": "https://localhost:8080/"
        },
        "id": "HzSecRA_4C34",
        "outputId": "f3da8e7a-82cf-46c9-81a0-df1ed2b95bc2"
      },
      "execution_count": 10,
      "outputs": [
        {
          "output_type": "stream",
          "name": "stdout",
          "text": [
            "Processing multiple sets of inputs\n",
            "Set 1: Temperature at time 4 hours: 9.0\n",
            "Set 2: Temperature at time 4 hours: 4.0\n",
            "Set 3: Temperature at time 4 hours: 43.0\n"
          ]
        }
      ]
    }
  ]
}